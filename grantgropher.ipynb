{
  "nbformat": 4,
  "nbformat_minor": 0,
  "metadata": {
    "colab": {
      "name": "grantgropher.ipynb",
      "provenance": [],
      "collapsed_sections": []
    },
    "kernelspec": {
      "name": "python3",
      "display_name": "Python 3"
    }
  },
  "cells": [
    {
      "cell_type": "code",
      "metadata": {
        "id": "N_4Yq6EmFMKE",
        "outputId": "b4e6a267-f058-48a0-97ec-9f6101c835b7",
        "colab": {
          "base_uri": "https://localhost:8080/",
          "height": 391
        }
      },
      "source": [
        "# install chromium, its driver, and selenium\n",
        "!apt update\n",
        "!apt install chromium-chromedriver\n",
        "!pip install selenium\n",
        "# set options to be headless, ..\n",
        "from selenium import webdriver\n",
        "options = webdriver.ChromeOptions()\n",
        "options.add_argument('--headless')\n",
        "options.add_argument('--no-sandbox')\n",
        "options.add_argument('--disable-dev-shm-usage')\n",
        "# open it, go to a website, and get results\n",
        "wd = webdriver.Chrome('chromedriver',options=options)"
      ],
      "execution_count": null,
      "outputs": [
        {
          "output_type": "stream",
          "text": [
            "Ign:1 https://developer.download.nvidia.com/compute/cuda/repos/ubuntu1804/x86_64  InRelease\n",
            "Ign:2 https://developer.download.nvidia.com/compute/machine-learning/repos/ubuntu1804/x86_64  InRelease\n",
            "Hit:3 https://developer.download.nvidia.com/compute/cuda/repos/ubuntu1804/x86_64  Release\n",
            "Hit:4 https://developer.download.nvidia.com/compute/machine-learning/repos/ubuntu1804/x86_64  Release\n",
            "Hit:5 http://ppa.launchpad.net/c2d4u.team/c2d4u4.0+/ubuntu bionic InRelease\n",
            "Hit:6 http://security.ubuntu.com/ubuntu bionic-security InRelease\n",
            "Hit:7 http://archive.ubuntu.com/ubuntu bionic InRelease\n",
            "Hit:9 https://cloud.r-project.org/bin/linux/ubuntu bionic-cran40/ InRelease\n",
            "Hit:11 http://archive.ubuntu.com/ubuntu bionic-updates InRelease\n",
            "Hit:12 http://ppa.launchpad.net/graphics-drivers/ppa/ubuntu bionic InRelease\n",
            "Hit:13 http://archive.ubuntu.com/ubuntu bionic-backports InRelease\n",
            "Reading package lists... Done\n",
            "Building dependency tree       \n",
            "Reading state information... Done\n",
            "23 packages can be upgraded. Run 'apt list --upgradable' to see them.\n",
            "Reading package lists... Done\n",
            "Building dependency tree       \n",
            "Reading state information... Done\n",
            "chromium-chromedriver is already the newest version (85.0.4183.121-0ubuntu0.18.04.1).\n",
            "0 upgraded, 0 newly installed, 0 to remove and 23 not upgraded.\n",
            "Requirement already satisfied: selenium in /usr/local/lib/python3.6/dist-packages (3.141.0)\n",
            "Requirement already satisfied: urllib3 in /usr/local/lib/python3.6/dist-packages (from selenium) (1.24.3)\n"
          ],
          "name": "stdout"
        }
      ]
    },
    {
      "cell_type": "code",
      "metadata": {
        "id": "SePFLAC3KozL"
      },
      "source": [
        "wd.get(\"https://grantsgateway.ny.gov/IntelliGrants_NYSGG/module/nysgg/goportal.aspx?NavItem1=2\")\n"
      ],
      "execution_count": null,
      "outputs": []
    },
    {
      "cell_type": "code",
      "metadata": {
        "id": "N_tJ3D5iK0Hd"
      },
      "source": [
        "assert \"IntelliGrants\" in wd.title"
      ],
      "execution_count": null,
      "outputs": []
    },
    {
      "cell_type": "code",
      "metadata": {
        "id": "EBI-2zGHMTR8"
      },
      "source": [
        "fA = [ ] #Funding Agency\n",
        "gO = [ ] #Grant Opportunities\n",
        "sS = [ ] #Status\n",
        "eE = [ ] #Eligibility\n",
        "aD = [ ] #Availability Date\n",
        "aRD= [ ] #Available Release Date\n",
        "dD = [ ] #DueDate"
      ],
      "execution_count": null,
      "outputs": []
    },
    {
      "cell_type": "code",
      "metadata": {
        "id": "AqumReTpR7yO",
        "outputId": "ab9ac130-771c-47d1-85c3-829fd5d7dc04",
        "colab": {
          "base_uri": "https://localhost:8080/",
          "height": 68
        }
      },
      "source": [
        "# import Action chains  \n",
        "# from selenium.webdriver.common.action_chains import ActionChains\n",
        "from selenium.webdriver.common.by import By\n",
        "from selenium.webdriver.support.ui import WebDriverWait\n",
        "from selenium.webdriver.support import expected_conditions as EC\n",
        "\n",
        "from time import sleep\n",
        "for i in range(1,4):\n",
        " element = wd.find_element_by_xpath(\"//table[@class='cssDataGridStandard']//tbody/tr/td[@colspan ='7']/a[text()='\"+str (i)+\"'] | //table[@class='cssDataGridStandard']//tbody/tr/td[@colspan ='7']/span[text()='\"+str (i)+\"'] \")\n",
        " element.click()\n",
        " print(i)\n",
        " WebDriverWait(wd, 10).until(EC.presence_of_element_located((By.XPATH, \"//table[@class='cssDataGridStandard']//tbody/tr/td[@colspan ='7']/span[text()='\"+str (i)+\"']\")))\n",
        " cells = wd.find_elements_by_xpath(\"//table[@class='cssDataGridStandard']//tbody/tr/td[1]\")\n",
        "\n",
        " for i in cells:\n",
        "    \n",
        "    fA.append(i.text)\n"
      ],
      "execution_count": null,
      "outputs": [
        {
          "output_type": "stream",
          "text": [
            "1\n",
            "2\n",
            "3\n"
          ],
          "name": "stdout"
        }
      ]
    },
    {
      "cell_type": "code",
      "metadata": {
        "id": "uSTLuVVwYdzH",
        "outputId": "537e20ed-7898-4715-98a3-b1359d78b733",
        "colab": {
          "base_uri": "https://localhost:8080/",
          "height": 34
        }
      },
      "source": [
        "len (fA)"
      ],
      "execution_count": null,
      "outputs": [
        {
          "output_type": "execute_result",
          "data": {
            "text/plain": [
              "77"
            ]
          },
          "metadata": {
            "tags": []
          },
          "execution_count": 6
        }
      ]
    },
    {
      "cell_type": "code",
      "metadata": {
        "id": "fXO-TgxHi9OU",
        "outputId": "e7e39385-6ba9-4be6-9b8c-21c1e48705a5",
        "colab": {
          "base_uri": "https://localhost:8080/",
          "height": 68
        }
      },
      "source": [
        "for i in range(1,4):\n",
        " element = wd.find_element_by_xpath(\"//table[@class='cssDataGridStandard']//tbody/tr/td[@colspan ='7']/a[text()='\"+str (i)+\"'] | //table[@class='cssDataGridStandard']//tbody/tr/td[@colspan ='7']/span[text()='\"+str (i)+\"'] \")\n",
        " element.click()\n",
        " print(i)\n",
        " WebDriverWait(wd, 10).until(EC.presence_of_element_located((By.XPATH, \"//table[@class='cssDataGridStandard']//tbody/tr/td[@colspan ='7']/span[text()='\"+str (i)+\"']\")))\n",
        " cells = wd.find_elements_by_xpath(\"//table[@class='cssDataGridStandard']//tbody/tr/td[2]\")\n",
        "\n",
        " for i in cells:\n",
        "    \n",
        "    gO.append(i.text)"
      ],
      "execution_count": null,
      "outputs": [
        {
          "output_type": "stream",
          "text": [
            "1\n",
            "2\n",
            "3\n"
          ],
          "name": "stdout"
        }
      ]
    },
    {
      "cell_type": "code",
      "metadata": {
        "id": "WYNVTR5zgqHI",
        "outputId": "449360a6-c6be-4435-d47e-fe8a69e4a11e",
        "colab": {
          "base_uri": "https://localhost:8080/",
          "height": 34
        }
      },
      "source": [
        "len (gO)"
      ],
      "execution_count": null,
      "outputs": [
        {
          "output_type": "execute_result",
          "data": {
            "text/plain": [
              "74"
            ]
          },
          "metadata": {
            "tags": []
          },
          "execution_count": 8
        }
      ]
    },
    {
      "cell_type": "code",
      "metadata": {
        "id": "jeA9PWBDc5DA",
        "outputId": "87f6b2a5-e0b3-4a48-d3ca-3fe10c302527",
        "colab": {
          "base_uri": "https://localhost:8080/",
          "height": 68
        }
      },
      "source": [
        "for i in range(1,4):\n",
        " element = wd.find_element_by_xpath(\"//table[@class='cssDataGridStandard']//tbody/tr/td[@colspan ='7']/a[text()='\"+str (i)+\"'] | //table[@class='cssDataGridStandard']//tbody/tr/td[@colspan ='7']/span[text()='\"+str (i)+\"'] \")\n",
        " element.click()\n",
        " print(i)\n",
        " WebDriverWait(wd, 10).until(EC.presence_of_element_located((By.XPATH, \"//table[@class='cssDataGridStandard']//tbody/tr/td[@colspan ='7']/span[text()='\"+str (i)+\"']\")))\n",
        " cells = wd.find_elements_by_xpath(\"//table[@class='cssDataGridStandard']//tbody/tr/td[3]\")\n",
        "\n",
        " for i in cells:\n",
        "    \n",
        "    sS.append(i.text)"
      ],
      "execution_count": null,
      "outputs": [
        {
          "output_type": "stream",
          "text": [
            "1\n",
            "2\n",
            "3\n"
          ],
          "name": "stdout"
        }
      ]
    },
    {
      "cell_type": "code",
      "metadata": {
        "id": "laI_sAXogsjO",
        "outputId": "42ff5d9e-8309-44e2-97c8-5c0e913b3ff6",
        "colab": {
          "base_uri": "https://localhost:8080/",
          "height": 34
        }
      },
      "source": [
        "len (sS)"
      ],
      "execution_count": null,
      "outputs": [
        {
          "output_type": "execute_result",
          "data": {
            "text/plain": [
              "74"
            ]
          },
          "metadata": {
            "tags": []
          },
          "execution_count": 10
        }
      ]
    },
    {
      "cell_type": "code",
      "metadata": {
        "id": "xsAaDDRtgUhq",
        "outputId": "1c133759-e5fc-48cb-b85c-13e160171f87",
        "colab": {
          "base_uri": "https://localhost:8080/",
          "height": 68
        }
      },
      "source": [
        "for i in range(1,4):\n",
        " element = wd.find_element_by_xpath(\"//table[@class='cssDataGridStandard']//tbody/tr/td[@colspan ='7']/a[text()='\"+str (i)+\"'] | //table[@class='cssDataGridStandard']//tbody/tr/td[@colspan ='7']/span[text()='\"+str (i)+\"'] \")\n",
        " element.click()\n",
        " print(i)\n",
        " WebDriverWait(wd, 10).until(EC.presence_of_element_located((By.XPATH, \"//table[@class='cssDataGridStandard']//tbody/tr/td[@colspan ='7']/span[text()='\"+str (i)+\"']\")))\n",
        " cells = wd.find_elements_by_xpath(\"//table[@class='cssDataGridStandard']//tbody/tr/td[4]\")\n",
        "\n",
        " for i in cells:\n",
        "    \n",
        "    eE.append(i.text)"
      ],
      "execution_count": null,
      "outputs": [
        {
          "output_type": "stream",
          "text": [
            "1\n",
            "2\n",
            "3\n"
          ],
          "name": "stdout"
        }
      ]
    },
    {
      "cell_type": "code",
      "metadata": {
        "id": "Fll_0PwMgwId",
        "outputId": "4369eb70-9354-4a26-bbd0-a8772bad052a",
        "colab": {
          "base_uri": "https://localhost:8080/",
          "height": 34
        }
      },
      "source": [
        "len (eE)"
      ],
      "execution_count": null,
      "outputs": [
        {
          "output_type": "execute_result",
          "data": {
            "text/plain": [
              "74"
            ]
          },
          "metadata": {
            "tags": []
          },
          "execution_count": 12
        }
      ]
    },
    {
      "cell_type": "code",
      "metadata": {
        "id": "BBCBMUcdgVTX",
        "outputId": "e2ccb19b-0f46-4e05-8814-8ea609565cb1",
        "colab": {
          "base_uri": "https://localhost:8080/",
          "height": 68
        }
      },
      "source": [
        "for i in range(1,4):\n",
        " element = wd.find_element_by_xpath(\"//table[@class='cssDataGridStandard']//tbody/tr/td[@colspan ='7']/a[text()='\"+str (i)+\"'] | //table[@class='cssDataGridStandard']//tbody/tr/td[@colspan ='7']/span[text()='\"+str (i)+\"'] \")\n",
        " element.click()\n",
        " print(i)\n",
        " WebDriverWait(wd, 10).until(EC.presence_of_element_located((By.XPATH, \"//table[@class='cssDataGridStandard']//tbody/tr/td[@colspan ='7']/span[text()='\"+str (i)+\"']\")))\n",
        " cells = wd.find_elements_by_xpath(\"//table[@class='cssDataGridStandard']//tbody/tr/td[5]\")\n",
        "\n",
        " for i in cells:\n",
        "    \n",
        "    aD.append(i.text)"
      ],
      "execution_count": null,
      "outputs": [
        {
          "output_type": "stream",
          "text": [
            "1\n",
            "2\n",
            "3\n"
          ],
          "name": "stdout"
        }
      ]
    },
    {
      "cell_type": "code",
      "metadata": {
        "id": "wfPintJLgw3F",
        "outputId": "4924f5da-7999-47a5-dabc-970eb1bb5a91",
        "colab": {
          "base_uri": "https://localhost:8080/",
          "height": 34
        }
      },
      "source": [
        "len (aD)"
      ],
      "execution_count": null,
      "outputs": [
        {
          "output_type": "execute_result",
          "data": {
            "text/plain": [
              "74"
            ]
          },
          "metadata": {
            "tags": []
          },
          "execution_count": 14
        }
      ]
    },
    {
      "cell_type": "code",
      "metadata": {
        "id": "VeOz3WFngV-e",
        "outputId": "a53c7794-5432-46e9-aa8a-9bb2fdcae545",
        "colab": {
          "base_uri": "https://localhost:8080/",
          "height": 68
        }
      },
      "source": [
        "for i in range(1,4):\n",
        " element = wd.find_element_by_xpath(\"//table[@class='cssDataGridStandard']//tbody/tr/td[@colspan ='7']/a[text()='\"+str (i)+\"'] | //table[@class='cssDataGridStandard']//tbody/tr/td[@colspan ='7']/span[text()='\"+str (i)+\"'] \")\n",
        " element.click()\n",
        " print(i)\n",
        " WebDriverWait(wd, 10).until(EC.presence_of_element_located((By.XPATH, \"//table[@class='cssDataGridStandard']//tbody/tr/td[@colspan ='7']/span[text()='\"+str (i)+\"']\")))\n",
        " cells = wd.find_elements_by_xpath(\"//table[@class='cssDataGridStandard']//tbody/tr/td[6]\")\n",
        "\n",
        " for i in cells:\n",
        "    \n",
        "    aRD.append(i.text)"
      ],
      "execution_count": null,
      "outputs": [
        {
          "output_type": "stream",
          "text": [
            "1\n",
            "2\n",
            "3\n"
          ],
          "name": "stdout"
        }
      ]
    },
    {
      "cell_type": "code",
      "metadata": {
        "id": "b0_89wh5gxlU",
        "outputId": "ef9a9645-291e-4abd-aeda-9c6032fce85f",
        "colab": {
          "base_uri": "https://localhost:8080/",
          "height": 34
        }
      },
      "source": [
        "len (aRD)"
      ],
      "execution_count": null,
      "outputs": [
        {
          "output_type": "execute_result",
          "data": {
            "text/plain": [
              "74"
            ]
          },
          "metadata": {
            "tags": []
          },
          "execution_count": 16
        }
      ]
    },
    {
      "cell_type": "code",
      "metadata": {
        "id": "iMrArD5zgWQY",
        "outputId": "8797884b-e6a3-44da-a887-759149064d3a",
        "colab": {
          "base_uri": "https://localhost:8080/",
          "height": 68
        }
      },
      "source": [
        "for i in range(1,4):\n",
        " element = wd.find_element_by_xpath(\"//table[@class='cssDataGridStandard']//tbody/tr/td[@colspan ='7']/a[text()='\"+str (i)+\"'] | //table[@class='cssDataGridStandard']//tbody/tr/td[@colspan ='7']/span[text()='\"+str (i)+\"'] \")\n",
        " element.click()\n",
        " print(i)\n",
        " WebDriverWait(wd, 10).until(EC.presence_of_element_located((By.XPATH, \"//table[@class='cssDataGridStandard']//tbody/tr/td[@colspan ='7']/span[text()='\"+str (i)+\"']\")))\n",
        " cells = wd.find_elements_by_xpath(\"//table[@class='cssDataGridStandard']//tbody/tr/td[7]\")\n",
        "\n",
        " for i in cells:\n",
        "    \n",
        "    dD.append(i.text)"
      ],
      "execution_count": null,
      "outputs": [
        {
          "output_type": "stream",
          "text": [
            "1\n",
            "2\n",
            "3\n"
          ],
          "name": "stdout"
        }
      ]
    },
    {
      "cell_type": "code",
      "metadata": {
        "id": "IZj31qMhgyPB",
        "outputId": "2d17429a-895d-4f87-ecf9-7b6f7fb2f78f",
        "colab": {
          "base_uri": "https://localhost:8080/",
          "height": 34
        }
      },
      "source": [
        "len (dD)"
      ],
      "execution_count": null,
      "outputs": [
        {
          "output_type": "execute_result",
          "data": {
            "text/plain": [
              "74"
            ]
          },
          "metadata": {
            "tags": []
          },
          "execution_count": 18
        }
      ]
    },
    {
      "cell_type": "code",
      "metadata": {
        "id": "5VdL9IA7hreb"
      },
      "source": [
        "aRD"
      ],
      "execution_count": null,
      "outputs": []
    },
    {
      "cell_type": "code",
      "metadata": {
        "id": "Qr8Mlu20nRol"
      },
      "source": [
        "fA1 = list(filter(lambda x : x != '1 2 3', fA))"
      ],
      "execution_count": null,
      "outputs": []
    },
    {
      "cell_type": "code",
      "metadata": {
        "id": "gt6K55nxn-MX"
      },
      "source": [
        "import pandas as pd\n",
        "df = pd.DataFrame({'Funding Agency':fA1,'Grant Opportunity': gO,'Status': sS,'Eligibility': eE,'Availability Date': aD,'Anticipated Release Date': aRD,'Due Date': dD})"
      ],
      "execution_count": null,
      "outputs": []
    },
    {
      "cell_type": "code",
      "metadata": {
        "id": "BTPOap3xo-TS",
        "outputId": "117a1e4e-dccf-4e67-c8dd-d4fb7b545d22",
        "colab": {
          "base_uri": "https://localhost:8080/",
          "height": 204
        }
      },
      "source": [
        "df.head()"
      ],
      "execution_count": null,
      "outputs": [
        {
          "output_type": "execute_result",
          "data": {
            "text/html": [
              "<div>\n",
              "<style scoped>\n",
              "    .dataframe tbody tr th:only-of-type {\n",
              "        vertical-align: middle;\n",
              "    }\n",
              "\n",
              "    .dataframe tbody tr th {\n",
              "        vertical-align: top;\n",
              "    }\n",
              "\n",
              "    .dataframe thead th {\n",
              "        text-align: right;\n",
              "    }\n",
              "</style>\n",
              "<table border=\"1\" class=\"dataframe\">\n",
              "  <thead>\n",
              "    <tr style=\"text-align: right;\">\n",
              "      <th></th>\n",
              "      <th>Funding Agency</th>\n",
              "      <th>Grant Opportunity</th>\n",
              "      <th>Status</th>\n",
              "      <th>Eligibility</th>\n",
              "      <th>Availability Date</th>\n",
              "      <th>Anticipated Release Date</th>\n",
              "      <th>Due Date</th>\n",
              "    </tr>\n",
              "  </thead>\n",
              "  <tbody>\n",
              "    <tr>\n",
              "      <th>0</th>\n",
              "      <td>Funding Agency</td>\n",
              "      <td>Grant Opportunity</td>\n",
              "      <td>Status</td>\n",
              "      <td>Eligibility</td>\n",
              "      <td>Availability Date</td>\n",
              "      <td>Anticipated\\nRelease Date</td>\n",
              "      <td>Due Date</td>\n",
              "    </tr>\n",
              "    <tr>\n",
              "      <th>1</th>\n",
              "      <td>Department of Agriculture &amp; Markets</td>\n",
              "      <td>Implementation of Agricultural Environmental M...</td>\n",
              "      <td>Available</td>\n",
              "      <td>Governmental Entity</td>\n",
              "      <td>January 8, 2020</td>\n",
              "      <td>NA</td>\n",
              "      <td></td>\n",
              "    </tr>\n",
              "    <tr>\n",
              "      <th>2</th>\n",
              "      <td>Department of Environmental Conservation</td>\n",
              "      <td>2019 Zero-emission Vehicle (ZEV) Infrastructur...</td>\n",
              "      <td>Available</td>\n",
              "      <td>Governmental Entity</td>\n",
              "      <td>October 1, 2019</td>\n",
              "      <td>NA</td>\n",
              "      <td></td>\n",
              "    </tr>\n",
              "    <tr>\n",
              "      <th>3</th>\n",
              "      <td>Department of Environmental Conservation</td>\n",
              "      <td>2019 Zero-emission Vehicle (ZEV) Rebates (Purc...</td>\n",
              "      <td>Available</td>\n",
              "      <td>Governmental Entity</td>\n",
              "      <td>October 1, 2019</td>\n",
              "      <td>NA</td>\n",
              "      <td></td>\n",
              "    </tr>\n",
              "    <tr>\n",
              "      <th>4</th>\n",
              "      <td>Office of Temporary &amp; Disability Assistance</td>\n",
              "      <td>Access and Visitation</td>\n",
              "      <td>Available</td>\n",
              "      <td>Not-For-Profit</td>\n",
              "      <td>May 13, 2019</td>\n",
              "      <td>NA</td>\n",
              "      <td></td>\n",
              "    </tr>\n",
              "  </tbody>\n",
              "</table>\n",
              "</div>"
            ],
            "text/plain": [
              "                                Funding Agency  ...  Due Date\n",
              "0                               Funding Agency  ...  Due Date\n",
              "1          Department of Agriculture & Markets  ...          \n",
              "2     Department of Environmental Conservation  ...          \n",
              "3     Department of Environmental Conservation  ...          \n",
              "4  Office of Temporary & Disability Assistance  ...          \n",
              "\n",
              "[5 rows x 7 columns]"
            ]
          },
          "metadata": {
            "tags": []
          },
          "execution_count": 24
        }
      ]
    },
    {
      "cell_type": "code",
      "metadata": {
        "id": "nUm2If5zo_14",
        "outputId": "96dc708e-af46-4db9-f1ca-4de8476ef9e6",
        "colab": {
          "base_uri": "https://localhost:8080/",
          "height": 1000
        }
      },
      "source": [
        "df.drop(0)"
      ],
      "execution_count": null,
      "outputs": [
        {
          "output_type": "execute_result",
          "data": {
            "text/html": [
              "<div>\n",
              "<style scoped>\n",
              "    .dataframe tbody tr th:only-of-type {\n",
              "        vertical-align: middle;\n",
              "    }\n",
              "\n",
              "    .dataframe tbody tr th {\n",
              "        vertical-align: top;\n",
              "    }\n",
              "\n",
              "    .dataframe thead th {\n",
              "        text-align: right;\n",
              "    }\n",
              "</style>\n",
              "<table border=\"1\" class=\"dataframe\">\n",
              "  <thead>\n",
              "    <tr style=\"text-align: right;\">\n",
              "      <th></th>\n",
              "      <th>Funding Agency</th>\n",
              "      <th>Grant Opportunity</th>\n",
              "      <th>Status</th>\n",
              "      <th>Eligibility</th>\n",
              "      <th>Availability Date</th>\n",
              "      <th>Anticipated Release Date</th>\n",
              "      <th>Due Date</th>\n",
              "    </tr>\n",
              "  </thead>\n",
              "  <tbody>\n",
              "    <tr>\n",
              "      <th>1</th>\n",
              "      <td>Department of Agriculture &amp; Markets</td>\n",
              "      <td>Implementation of Agricultural Environmental M...</td>\n",
              "      <td>Available</td>\n",
              "      <td>Governmental Entity</td>\n",
              "      <td>January 8, 2020</td>\n",
              "      <td>NA</td>\n",
              "      <td></td>\n",
              "    </tr>\n",
              "    <tr>\n",
              "      <th>2</th>\n",
              "      <td>Department of Environmental Conservation</td>\n",
              "      <td>2019 Zero-emission Vehicle (ZEV) Infrastructur...</td>\n",
              "      <td>Available</td>\n",
              "      <td>Governmental Entity</td>\n",
              "      <td>October 1, 2019</td>\n",
              "      <td>NA</td>\n",
              "      <td></td>\n",
              "    </tr>\n",
              "    <tr>\n",
              "      <th>3</th>\n",
              "      <td>Department of Environmental Conservation</td>\n",
              "      <td>2019 Zero-emission Vehicle (ZEV) Rebates (Purc...</td>\n",
              "      <td>Available</td>\n",
              "      <td>Governmental Entity</td>\n",
              "      <td>October 1, 2019</td>\n",
              "      <td>NA</td>\n",
              "      <td></td>\n",
              "    </tr>\n",
              "    <tr>\n",
              "      <th>4</th>\n",
              "      <td>Office of Temporary &amp; Disability Assistance</td>\n",
              "      <td>Access and Visitation</td>\n",
              "      <td>Available</td>\n",
              "      <td>Not-For-Profit</td>\n",
              "      <td>May 13, 2019</td>\n",
              "      <td>NA</td>\n",
              "      <td></td>\n",
              "    </tr>\n",
              "    <tr>\n",
              "      <th>5</th>\n",
              "      <td>Department of Agriculture &amp; Markets</td>\n",
              "      <td>Appraisals For Proposed Agricultural Conservat...</td>\n",
              "      <td>Available</td>\n",
              "      <td>Not-For-Profit</td>\n",
              "      <td>August 7, 2018</td>\n",
              "      <td>NA</td>\n",
              "      <td></td>\n",
              "    </tr>\n",
              "    <tr>\n",
              "      <th>...</th>\n",
              "      <td>...</td>\n",
              "      <td>...</td>\n",
              "      <td>...</td>\n",
              "      <td>...</td>\n",
              "      <td>...</td>\n",
              "      <td>...</td>\n",
              "      <td>...</td>\n",
              "    </tr>\n",
              "    <tr>\n",
              "      <th>69</th>\n",
              "      <td>Office of Children &amp; Family Services</td>\n",
              "      <td>RFP#1037 NYS AmeriCorps 2020 Formula Pool-Amen...</td>\n",
              "      <td>Available</td>\n",
              "      <td>Governmental Entity, Not-For-Profit, Tribal Or...</td>\n",
              "      <td>May 14, 2020</td>\n",
              "      <td>March 27, 2020</td>\n",
              "      <td>May 20, 2020</td>\n",
              "    </tr>\n",
              "    <tr>\n",
              "      <th>70</th>\n",
              "      <td>State Education Department</td>\n",
              "      <td>2021-2022 Conservation Preservation Discretion...</td>\n",
              "      <td>Available</td>\n",
              "      <td>Not-For-Profit</td>\n",
              "      <td>August 10, 2020</td>\n",
              "      <td>August 3, 2020</td>\n",
              "      <td>November 20, 2020</td>\n",
              "    </tr>\n",
              "    <tr>\n",
              "      <th>71</th>\n",
              "      <td>Division of Criminal Justice Services</td>\n",
              "      <td>SFY 2020-21 LIVESCAN Equipment Program – Issue...</td>\n",
              "      <td>Available</td>\n",
              "      <td>Governmental Entity</td>\n",
              "      <td>September 24, 2020</td>\n",
              "      <td>August 28, 2020</td>\n",
              "      <td>October 28, 2020</td>\n",
              "    </tr>\n",
              "    <tr>\n",
              "      <th>72</th>\n",
              "      <td>Office of Temporary &amp; Disability Assistance</td>\n",
              "      <td>Homeless Housing and Assistance Program (HHAP)...</td>\n",
              "      <td>Available</td>\n",
              "      <td>Governmental Entity, Not-For-Profit, Tribal Or...</td>\n",
              "      <td>August 31, 2020</td>\n",
              "      <td>August 31, 2020</td>\n",
              "      <td></td>\n",
              "    </tr>\n",
              "    <tr>\n",
              "      <th>73</th>\n",
              "      <td>Office of Temporary &amp; Disability Assistance</td>\n",
              "      <td>Homeless Housing and Assistance Program (HHAP)...</td>\n",
              "      <td>Anticipated</td>\n",
              "      <td>Governmental Entity, Not-For-Profit, Tribal Or...</td>\n",
              "      <td></td>\n",
              "      <td>September 1, 2020</td>\n",
              "      <td></td>\n",
              "    </tr>\n",
              "  </tbody>\n",
              "</table>\n",
              "<p>73 rows × 7 columns</p>\n",
              "</div>"
            ],
            "text/plain": [
              "                                 Funding Agency  ...           Due Date\n",
              "1           Department of Agriculture & Markets  ...                   \n",
              "2      Department of Environmental Conservation  ...                   \n",
              "3      Department of Environmental Conservation  ...                   \n",
              "4   Office of Temporary & Disability Assistance  ...                   \n",
              "5           Department of Agriculture & Markets  ...                   \n",
              "..                                          ...  ...                ...\n",
              "69         Office of Children & Family Services  ...       May 20, 2020\n",
              "70                   State Education Department  ...  November 20, 2020\n",
              "71        Division of Criminal Justice Services  ...   October 28, 2020\n",
              "72  Office of Temporary & Disability Assistance  ...                   \n",
              "73  Office of Temporary & Disability Assistance  ...                   \n",
              "\n",
              "[73 rows x 7 columns]"
            ]
          },
          "metadata": {
            "tags": []
          },
          "execution_count": 25
        }
      ]
    },
    {
      "cell_type": "code",
      "metadata": {
        "id": "DGuPeM5ipTyn"
      },
      "source": [
        "df = df.drop(0)"
      ],
      "execution_count": null,
      "outputs": []
    },
    {
      "cell_type": "code",
      "metadata": {
        "id": "i3aN-GTcpXpe"
      },
      "source": [
        "df = df.drop(26)"
      ],
      "execution_count": null,
      "outputs": []
    },
    {
      "cell_type": "code",
      "metadata": {
        "id": "diPmFgONpcOS"
      },
      "source": [
        "df = df.drop(52)"
      ],
      "execution_count": null,
      "outputs": []
    },
    {
      "cell_type": "code",
      "metadata": {
        "id": "W2aS-y-sqBNV"
      },
      "source": [
        "df.to_csv('GrantsGateway.csv')"
      ],
      "execution_count": null,
      "outputs": []
    },
    {
      "cell_type": "code",
      "metadata": {
        "id": "aO8IrDgxqVmL"
      },
      "source": [
        ""
      ],
      "execution_count": null,
      "outputs": []
    }
  ]
}