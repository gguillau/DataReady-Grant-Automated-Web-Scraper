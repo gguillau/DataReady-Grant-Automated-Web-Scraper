{
 "cells": [
  {
   "cell_type": "markdown",
   "metadata": {},
   "source": [
    "# Grant.gov"
   ]
  },
  {
   "cell_type": "markdown",
   "metadata": {},
   "source": [
    "## Initialize"
   ]
  },
  {
   "cell_type": "code",
   "execution_count": null,
   "metadata": {},
   "outputs": [],
   "source": [
    "import bs4 as bs\n",
    "import requests "
   ]
  },
  {
   "cell_type": "code",
   "execution_count": null,
   "metadata": {},
   "outputs": [],
   "source": [
    "#tutourial https://medium.com/ymedialabs-innovation/web-scraping-using-beautiful-soup-and-selenium-for-dynamic-page-2f8ad15efe25\n",
    "#initialize\n",
    "URL = \"https://www.grants.gov/web/grants/search-grants.html\"\n",
    "r = requests.get(URL) \n",
    "  \n",
    "soup = bs.BeautifulSoup(r.content, 'html5lib')\n",
    "print(soup.prettify()) "
   ]
  },
  {
   "cell_type": "markdown",
   "metadata": {},
   "source": [
    "## Test Filter 9/21/2020"
   ]
  },
  {
   "cell_type": "code",
   "execution_count": null,
   "metadata": {
    "scrolled": true
   },
   "outputs": [],
   "source": [
    "##################################### BEGIN TEST SECTION #####################################################\n",
    "## install packages\n",
    "# change this binary parameter below to match your chrome version\n",
    "# stable version 85 recommended\n",
    "# pip install chromedriver-binary==85.0.4183.87\n",
    "# tutourial for iframe: https://www.techbeamers.com/switch-between-iframes-selenium-python/\n",
    "from selenium import webdriver\n",
    "import chromedriver_binary\n",
    "from selenium.webdriver import chrome\n",
    "import time\n",
    "\n",
    "# use selenium to apply filters\n",
    "driver = webdriver.Chrome()\n",
    "driver.get(\"https://www.grants.gov/web/grants/search-grants.html\")\n",
    "# action delay\n",
    "driver.implicitly_wait(5)\n",
    "#check if \n",
    "tags = driver.find_elements_by_tag_name('iframe')\n",
    "tags\n",
    "# if tags non empty, html contains iframe\n",
    "\n",
    "#html example\n",
    "#<input type=\"checkbox\" class=\"formfield\" onclick=\"updateSearchResults( this );\" name=\"fundingInstruments\" value=\"CA\" id=\"CA\" title=\"Cooperative Agreement (241)\">"
   ]
  },
  {
   "cell_type": "code",
   "execution_count": null,
   "metadata": {},
   "outputs": [],
   "source": [
    "iframe = driver.find_elements_by_tag_name('iframe')[0]"
   ]
  },
  {
   "cell_type": "code",
   "execution_count": null,
   "metadata": {},
   "outputs": [],
   "source": [
    "driver.switch_to.frame(iframe)"
   ]
  },
  {
   "cell_type": "code",
   "execution_count": null,
   "metadata": {},
   "outputs": [],
   "source": [
    "test = driver.find_element_by_id('CA')"
   ]
  },
  {
   "cell_type": "code",
   "execution_count": null,
   "metadata": {},
   "outputs": [],
   "source": [
    "#simulate a click\n",
    "test.click()\n",
    "#log 9/22/2020 success\n",
    "######################################### END TEST SECTION ###########################################################"
   ]
  },
  {
   "cell_type": "markdown",
   "metadata": {},
   "source": [
    "## Apply Filters 9/22/2020 START HERE"
   ]
  },
  {
   "cell_type": "code",
   "execution_count": 1,
   "metadata": {},
   "outputs": [],
   "source": [
    "from selenium import webdriver\n",
    "import chromedriver_binary\n",
    "from selenium.webdriver import chrome\n",
    "import time\n",
    "\n",
    "driver = webdriver.Chrome()\n",
    "driver.get(\"https://www.grants.gov/web/grants/search-grants.html\")\n",
    "driver.implicitly_wait(5)\n",
    "tags = driver.find_elements_by_tag_name('iframe')\n",
    "tags\n",
    "time.sleep(3)"
   ]
  },
  {
   "cell_type": "code",
   "execution_count": 2,
   "metadata": {},
   "outputs": [],
   "source": [
    "iframe = driver.find_elements_by_tag_name('iframe')[0]\n",
    "driver.switch_to.frame(iframe)"
   ]
  },
  {
   "cell_type": "code",
   "execution_count": 3,
   "metadata": {},
   "outputs": [],
   "source": [
    "# clicking simulation tailored to each site\n",
    "# have to manually choose tags based on needs\n",
    "\n",
    "################################### FILTER TAGS #############################\n",
    "#Opportunity Type\n",
    "    # Separate forecasted and posted\n",
    "    # Forecasted: uncheck forcasted\n",
    "forecasted = driver.find_element_by_id('forecasted')\n",
    "forecasted.click()\n",
    "\n",
    "    # Posted\n",
    "#posted = driver.find_element_by_id('posted')\n",
    "#posted.click()\n",
    "\n",
    "## Page refresh: wait for DOM to reattach reference\n",
    "time.sleep(1)"
   ]
  },
  {
   "cell_type": "code",
   "execution_count": 4,
   "metadata": {},
   "outputs": [],
   "source": [
    "#Funding Instrument Type\n",
    "    #Grant\n",
    "G = driver.find_element_by_id('G')\n",
    "G.click()\n",
    "time.sleep(1)"
   ]
  },
  {
   "cell_type": "code",
   "execution_count": 5,
   "metadata": {},
   "outputs": [],
   "source": [
    "#Eligibility\n",
    "\n",
    "# Nonprofits having a 501(c)(3) status with the IRS, other than institutions of higher education\n",
    "irs = driver.find_element_by_id('12')\n",
    "irs.click()\n",
    "time.sleep(1)\n",
    "\n",
    "# Nonprofits that do not have a 501(c)(3) status with the IRS, other than institutions of higher education\n",
    "nirs = driver.find_element_by_id('13')\n",
    "nirs.click()\n",
    "time.sleep(1)\n",
    "\n",
    "# Unrestricted (i.e., open to any type of entity above), subject to any clarification in text field entitled\n",
    "# 'Additional Information on Eligibility' \n",
    "nirs = driver.find_element_by_id('99')\n",
    "nirs.click()\n",
    "time.sleep(2)"
   ]
  },
  {
   "cell_type": "code",
   "execution_count": 6,
   "metadata": {},
   "outputs": [],
   "source": [
    "#Category\n",
    "#education\n",
    "edu = driver.find_element_by_id('ED')\n",
    "edu.click()\n",
    "time.sleep(1)\n",
    "#science and technology\n",
    "st = driver.find_element_by_id('ST')\n",
    "st.click()\n",
    "time.sleep(1)\n",
    "#Employment, Labor and Training\n",
    "elt = driver.find_element_by_id('ELT')\n",
    "elt.click()\n",
    "time.sleep(1)\n",
    "#Environment\n",
    "env = driver.find_element_by_id('ENV')\n",
    "env.click()\n",
    "time.sleep(1)"
   ]
  },
  {
   "cell_type": "markdown",
   "metadata": {},
   "source": [
    "## Scraping 10/01/2020-10/03/2020"
   ]
  },
  {
   "cell_type": "code",
   "execution_count": 24,
   "metadata": {},
   "outputs": [],
   "source": [
    "import bs4 as bs\n",
    "name = []\n",
    "\n",
    "#Funding Opportunity Number\n",
    "opnum = []\n",
    "#eligibility\n",
    "el = []\n",
    "#agency name\n",
    "agn = []\n",
    "#description\n",
    "des = []\n",
    "\n",
    "def collect():\n",
    "\n",
    "    driver.switch_to.default_content()\n",
    "    try:\n",
    "        iframe = driver.find_elements_by_tag_name('iframe')[0]\n",
    "        driver.switch_to.frame(iframe)\n",
    "    except:\n",
    "        pass\n",
    "    hasPage = True\n",
    "    while(hasPage):\n",
    "        for i in range(2,26):\n",
    "            #load page with scraper\n",
    "            driver.find_element_by_css_selector('#searchResultsDiv > table.grid > tbody > tr:nth-child('+str(i)+') > td:nth-child(1) > a').click()\n",
    "            time.sleep(2)\n",
    "            s = bs.BeautifulSoup(driver.page_source,'lxml')\n",
    "\n",
    "            grantInfo = s.find('div',attrs={\"id\":\"synopsisDetailsGeneralInfoTableLeft\"})\n",
    "            rows = grantInfo.find_all('tr')\n",
    "            driver.implicitly_wait(1)\n",
    "            #store general info\n",
    "            # opportunity number\n",
    "            try:\n",
    "                opnum.append(rows[1].find('td').text)\n",
    "            except:\n",
    "                #wait longer\n",
    "                time.sleep(5)\n",
    "                \n",
    "                s = bs.BeautifulSoup(driver.page_source,'lxml')\n",
    "\n",
    "                grantInfo = s.find('div',attrs={\"id\":\"synopsisDetailsGeneralInfoTableLeft\"})\n",
    "                rows = grantInfo.find_all('tr')\n",
    "                driver.implicitly_wait(1)\n",
    "                opnum.append(rows[1].find('td').text)\n",
    "                \n",
    "            #Funding Opportunity Title\n",
    "            name.append(rows[2].find('td').text)\n",
    "\n",
    "            #Grant eligibility\n",
    "            grantInfo = s.find('div',attrs={\"id\":\"synopsisDetailsEligibilityTable\"})\n",
    "            rows = grantInfo.find_all('tr')\n",
    "            el.append(rows[0].find('td').text)\n",
    "\n",
    "            grantInfo = s.find('div',attrs={\"id\":\"synopsisDetailsAdditionalInfoTable\"})\n",
    "            rows = grantInfo.find_all('tr')\n",
    "            #agency name\n",
    "            agn.append(rows[0].find('td').text)\n",
    "            #description\n",
    "            des.append(rows[1].find('td').text)\n",
    "            time.sleep(2)\n",
    "            #return to previous page\n",
    "            driver.execute_script(\"window.history.go(-1)\")\n",
    "            driver.implicitly_wait(1)\n",
    "        try:\n",
    "            driver.find_element_by_css_selector(\"[title*='Click Next Page']\").click()\n",
    "        except:\n",
    "            print(\"no pages left\")\n",
    "            return\n",
    "        \n"
   ]
  },
  {
   "cell_type": "code",
   "execution_count": 25,
   "metadata": {
    "collapsed": true
   },
   "outputs": [
    {
     "ename": "NoSuchElementException",
     "evalue": "Message: no such element: Unable to locate element: {\"method\":\"css selector\",\"selector\":\"#searchResultsDiv > table.grid > tbody > tr:nth-child(18) > td:nth-child(1) > a\"}\n  (Session info: chrome=85.0.4183.121)\n",
     "output_type": "error",
     "traceback": [
      "\u001b[1;31m---------------------------------------------------------------------------\u001b[0m",
      "\u001b[1;31mNoSuchElementException\u001b[0m                    Traceback (most recent call last)",
      "\u001b[1;32m<ipython-input-25-2456da050637>\u001b[0m in \u001b[0;36m<module>\u001b[1;34m\u001b[0m\n\u001b[1;32m----> 1\u001b[1;33m \u001b[0mcollect\u001b[0m\u001b[1;33m(\u001b[0m\u001b[1;33m)\u001b[0m\u001b[1;33m\u001b[0m\u001b[1;33m\u001b[0m\u001b[0m\n\u001b[0m",
      "\u001b[1;32m<ipython-input-24-a5ae2f129562>\u001b[0m in \u001b[0;36mcollect\u001b[1;34m()\u001b[0m\n\u001b[0;32m     23\u001b[0m         \u001b[1;32mfor\u001b[0m \u001b[0mi\u001b[0m \u001b[1;32min\u001b[0m \u001b[0mrange\u001b[0m\u001b[1;33m(\u001b[0m\u001b[1;36m2\u001b[0m\u001b[1;33m,\u001b[0m\u001b[1;36m26\u001b[0m\u001b[1;33m)\u001b[0m\u001b[1;33m:\u001b[0m\u001b[1;33m\u001b[0m\u001b[1;33m\u001b[0m\u001b[0m\n\u001b[0;32m     24\u001b[0m             \u001b[1;31m#load page with scraper\u001b[0m\u001b[1;33m\u001b[0m\u001b[1;33m\u001b[0m\u001b[1;33m\u001b[0m\u001b[0m\n\u001b[1;32m---> 25\u001b[1;33m             \u001b[0mdriver\u001b[0m\u001b[1;33m.\u001b[0m\u001b[0mfind_element_by_css_selector\u001b[0m\u001b[1;33m(\u001b[0m\u001b[1;34m'#searchResultsDiv > table.grid > tbody > tr:nth-child('\u001b[0m\u001b[1;33m+\u001b[0m\u001b[0mstr\u001b[0m\u001b[1;33m(\u001b[0m\u001b[0mi\u001b[0m\u001b[1;33m)\u001b[0m\u001b[1;33m+\u001b[0m\u001b[1;34m') > td:nth-child(1) > a'\u001b[0m\u001b[1;33m)\u001b[0m\u001b[1;33m.\u001b[0m\u001b[0mclick\u001b[0m\u001b[1;33m(\u001b[0m\u001b[1;33m)\u001b[0m\u001b[1;33m\u001b[0m\u001b[1;33m\u001b[0m\u001b[0m\n\u001b[0m\u001b[0;32m     26\u001b[0m             \u001b[0mtime\u001b[0m\u001b[1;33m.\u001b[0m\u001b[0msleep\u001b[0m\u001b[1;33m(\u001b[0m\u001b[1;36m2\u001b[0m\u001b[1;33m)\u001b[0m\u001b[1;33m\u001b[0m\u001b[1;33m\u001b[0m\u001b[0m\n\u001b[0;32m     27\u001b[0m             \u001b[0ms\u001b[0m \u001b[1;33m=\u001b[0m \u001b[0mbs\u001b[0m\u001b[1;33m.\u001b[0m\u001b[0mBeautifulSoup\u001b[0m\u001b[1;33m(\u001b[0m\u001b[0mdriver\u001b[0m\u001b[1;33m.\u001b[0m\u001b[0mpage_source\u001b[0m\u001b[1;33m,\u001b[0m\u001b[1;34m'lxml'\u001b[0m\u001b[1;33m)\u001b[0m\u001b[1;33m\u001b[0m\u001b[1;33m\u001b[0m\u001b[0m\n",
      "\u001b[1;32m~\\conda\\lib\\site-packages\\selenium\\webdriver\\remote\\webdriver.py\u001b[0m in \u001b[0;36mfind_element_by_css_selector\u001b[1;34m(self, css_selector)\u001b[0m\n\u001b[0;32m    596\u001b[0m             \u001b[0melement\u001b[0m \u001b[1;33m=\u001b[0m \u001b[0mdriver\u001b[0m\u001b[1;33m.\u001b[0m\u001b[0mfind_element_by_css_selector\u001b[0m\u001b[1;33m(\u001b[0m\u001b[1;34m'#foo'\u001b[0m\u001b[1;33m)\u001b[0m\u001b[1;33m\u001b[0m\u001b[1;33m\u001b[0m\u001b[0m\n\u001b[0;32m    597\u001b[0m         \"\"\"\n\u001b[1;32m--> 598\u001b[1;33m         \u001b[1;32mreturn\u001b[0m \u001b[0mself\u001b[0m\u001b[1;33m.\u001b[0m\u001b[0mfind_element\u001b[0m\u001b[1;33m(\u001b[0m\u001b[0mby\u001b[0m\u001b[1;33m=\u001b[0m\u001b[0mBy\u001b[0m\u001b[1;33m.\u001b[0m\u001b[0mCSS_SELECTOR\u001b[0m\u001b[1;33m,\u001b[0m \u001b[0mvalue\u001b[0m\u001b[1;33m=\u001b[0m\u001b[0mcss_selector\u001b[0m\u001b[1;33m)\u001b[0m\u001b[1;33m\u001b[0m\u001b[1;33m\u001b[0m\u001b[0m\n\u001b[0m\u001b[0;32m    599\u001b[0m \u001b[1;33m\u001b[0m\u001b[0m\n\u001b[0;32m    600\u001b[0m     \u001b[1;32mdef\u001b[0m \u001b[0mfind_elements_by_css_selector\u001b[0m\u001b[1;33m(\u001b[0m\u001b[0mself\u001b[0m\u001b[1;33m,\u001b[0m \u001b[0mcss_selector\u001b[0m\u001b[1;33m)\u001b[0m\u001b[1;33m:\u001b[0m\u001b[1;33m\u001b[0m\u001b[1;33m\u001b[0m\u001b[0m\n",
      "\u001b[1;32m~\\conda\\lib\\site-packages\\selenium\\webdriver\\remote\\webdriver.py\u001b[0m in \u001b[0;36mfind_element\u001b[1;34m(self, by, value)\u001b[0m\n\u001b[0;32m    974\u001b[0m                 \u001b[0mby\u001b[0m \u001b[1;33m=\u001b[0m \u001b[0mBy\u001b[0m\u001b[1;33m.\u001b[0m\u001b[0mCSS_SELECTOR\u001b[0m\u001b[1;33m\u001b[0m\u001b[1;33m\u001b[0m\u001b[0m\n\u001b[0;32m    975\u001b[0m                 \u001b[0mvalue\u001b[0m \u001b[1;33m=\u001b[0m \u001b[1;34m'[name=\"%s\"]'\u001b[0m \u001b[1;33m%\u001b[0m \u001b[0mvalue\u001b[0m\u001b[1;33m\u001b[0m\u001b[1;33m\u001b[0m\u001b[0m\n\u001b[1;32m--> 976\u001b[1;33m         return self.execute(Command.FIND_ELEMENT, {\n\u001b[0m\u001b[0;32m    977\u001b[0m             \u001b[1;34m'using'\u001b[0m\u001b[1;33m:\u001b[0m \u001b[0mby\u001b[0m\u001b[1;33m,\u001b[0m\u001b[1;33m\u001b[0m\u001b[1;33m\u001b[0m\u001b[0m\n\u001b[0;32m    978\u001b[0m             'value': value})['value']\n",
      "\u001b[1;32m~\\conda\\lib\\site-packages\\selenium\\webdriver\\remote\\webdriver.py\u001b[0m in \u001b[0;36mexecute\u001b[1;34m(self, driver_command, params)\u001b[0m\n\u001b[0;32m    319\u001b[0m         \u001b[0mresponse\u001b[0m \u001b[1;33m=\u001b[0m \u001b[0mself\u001b[0m\u001b[1;33m.\u001b[0m\u001b[0mcommand_executor\u001b[0m\u001b[1;33m.\u001b[0m\u001b[0mexecute\u001b[0m\u001b[1;33m(\u001b[0m\u001b[0mdriver_command\u001b[0m\u001b[1;33m,\u001b[0m \u001b[0mparams\u001b[0m\u001b[1;33m)\u001b[0m\u001b[1;33m\u001b[0m\u001b[1;33m\u001b[0m\u001b[0m\n\u001b[0;32m    320\u001b[0m         \u001b[1;32mif\u001b[0m \u001b[0mresponse\u001b[0m\u001b[1;33m:\u001b[0m\u001b[1;33m\u001b[0m\u001b[1;33m\u001b[0m\u001b[0m\n\u001b[1;32m--> 321\u001b[1;33m             \u001b[0mself\u001b[0m\u001b[1;33m.\u001b[0m\u001b[0merror_handler\u001b[0m\u001b[1;33m.\u001b[0m\u001b[0mcheck_response\u001b[0m\u001b[1;33m(\u001b[0m\u001b[0mresponse\u001b[0m\u001b[1;33m)\u001b[0m\u001b[1;33m\u001b[0m\u001b[1;33m\u001b[0m\u001b[0m\n\u001b[0m\u001b[0;32m    322\u001b[0m             response['value'] = self._unwrap_value(\n\u001b[0;32m    323\u001b[0m                 response.get('value', None))\n",
      "\u001b[1;32m~\\conda\\lib\\site-packages\\selenium\\webdriver\\remote\\errorhandler.py\u001b[0m in \u001b[0;36mcheck_response\u001b[1;34m(self, response)\u001b[0m\n\u001b[0;32m    240\u001b[0m                 \u001b[0malert_text\u001b[0m \u001b[1;33m=\u001b[0m \u001b[0mvalue\u001b[0m\u001b[1;33m[\u001b[0m\u001b[1;34m'alert'\u001b[0m\u001b[1;33m]\u001b[0m\u001b[1;33m.\u001b[0m\u001b[0mget\u001b[0m\u001b[1;33m(\u001b[0m\u001b[1;34m'text'\u001b[0m\u001b[1;33m)\u001b[0m\u001b[1;33m\u001b[0m\u001b[1;33m\u001b[0m\u001b[0m\n\u001b[0;32m    241\u001b[0m             \u001b[1;32mraise\u001b[0m \u001b[0mexception_class\u001b[0m\u001b[1;33m(\u001b[0m\u001b[0mmessage\u001b[0m\u001b[1;33m,\u001b[0m \u001b[0mscreen\u001b[0m\u001b[1;33m,\u001b[0m \u001b[0mstacktrace\u001b[0m\u001b[1;33m,\u001b[0m \u001b[0malert_text\u001b[0m\u001b[1;33m)\u001b[0m\u001b[1;33m\u001b[0m\u001b[1;33m\u001b[0m\u001b[0m\n\u001b[1;32m--> 242\u001b[1;33m         \u001b[1;32mraise\u001b[0m \u001b[0mexception_class\u001b[0m\u001b[1;33m(\u001b[0m\u001b[0mmessage\u001b[0m\u001b[1;33m,\u001b[0m \u001b[0mscreen\u001b[0m\u001b[1;33m,\u001b[0m \u001b[0mstacktrace\u001b[0m\u001b[1;33m)\u001b[0m\u001b[1;33m\u001b[0m\u001b[1;33m\u001b[0m\u001b[0m\n\u001b[0m\u001b[0;32m    243\u001b[0m \u001b[1;33m\u001b[0m\u001b[0m\n\u001b[0;32m    244\u001b[0m     \u001b[1;32mdef\u001b[0m \u001b[0m_value_or_default\u001b[0m\u001b[1;33m(\u001b[0m\u001b[0mself\u001b[0m\u001b[1;33m,\u001b[0m \u001b[0mobj\u001b[0m\u001b[1;33m,\u001b[0m \u001b[0mkey\u001b[0m\u001b[1;33m,\u001b[0m \u001b[0mdefault\u001b[0m\u001b[1;33m)\u001b[0m\u001b[1;33m:\u001b[0m\u001b[1;33m\u001b[0m\u001b[1;33m\u001b[0m\u001b[0m\n",
      "\u001b[1;31mNoSuchElementException\u001b[0m: Message: no such element: Unable to locate element: {\"method\":\"css selector\",\"selector\":\"#searchResultsDiv > table.grid > tbody > tr:nth-child(18) > td:nth-child(1) > a\"}\n  (Session info: chrome=85.0.4183.121)\n"
     ]
    }
   ],
   "source": [
    "collect()"
   ]
  },
  {
   "cell_type": "code",
   "execution_count": 26,
   "metadata": {},
   "outputs": [],
   "source": [
    "#store in dictionary\n",
    "data = {\"Name\":name,\n",
    "       \"Opportunity Number\":opnum,\n",
    "       \"Eligibility\":el,\n",
    "       \"Agency Name\": agn,\n",
    "       \"Description\":des}"
   ]
  },
  {
   "cell_type": "code",
   "execution_count": 27,
   "metadata": {},
   "outputs": [],
   "source": [
    "#driver.find_element_by_css_selector(\"[title*='Click Next Page']\").click()"
   ]
  },
  {
   "cell_type": "code",
   "execution_count": 28,
   "metadata": {},
   "outputs": [],
   "source": [
    "import pandas as pd\n",
    "df = pd.DataFrame(data)\n",
    "df.to_csv('grantGov_raw.txt',index=True)"
   ]
  },
  {
   "cell_type": "code",
   "execution_count": 29,
   "metadata": {},
   "outputs": [
    {
     "data": {
      "text/html": [
       "<div>\n",
       "<style scoped>\n",
       "    .dataframe tbody tr th:only-of-type {\n",
       "        vertical-align: middle;\n",
       "    }\n",
       "\n",
       "    .dataframe tbody tr th {\n",
       "        vertical-align: top;\n",
       "    }\n",
       "\n",
       "    .dataframe thead th {\n",
       "        text-align: right;\n",
       "    }\n",
       "</style>\n",
       "<table border=\"1\" class=\"dataframe\">\n",
       "  <thead>\n",
       "    <tr style=\"text-align: right;\">\n",
       "      <th></th>\n",
       "      <th>Name</th>\n",
       "      <th>Opportunity Number</th>\n",
       "      <th>Eligibility</th>\n",
       "      <th>Agency Name</th>\n",
       "      <th>Description</th>\n",
       "    </tr>\n",
       "  </thead>\n",
       "  <tbody>\n",
       "    <tr>\n",
       "      <th>0</th>\n",
       "      <td>Transitions to Excellence in Molecular and Cel...</td>\n",
       "      <td>21-508</td>\n",
       "      <td>Unrestricted (i.e., open to any type of entity...</td>\n",
       "      <td>National Science Foundation</td>\n",
       "      <td>The Division of Molecular and Cellular Bioscie...</td>\n",
       "    </tr>\n",
       "    <tr>\n",
       "      <th>1</th>\n",
       "      <td>Plant Genome Research Program</td>\n",
       "      <td>21-507</td>\n",
       "      <td>Unrestricted (i.e., open to any type of entity...</td>\n",
       "      <td>National Science Foundation</td>\n",
       "      <td>\\n\\n\\n\\nThe Plant Genome Research Program (PGR...</td>\n",
       "    </tr>\n",
       "    <tr>\n",
       "      <th>2</th>\n",
       "      <td>Division of Integrative Organismal Systems Cor...</td>\n",
       "      <td>21-506</td>\n",
       "      <td>Unrestricted (i.e., open to any type of entity...</td>\n",
       "      <td>National Science Foundation</td>\n",
       "      <td>\\n\\nThe Division of Integrative Organismal Sys...</td>\n",
       "    </tr>\n",
       "    <tr>\n",
       "      <th>3</th>\n",
       "      <td>Algebra and Number Theory</td>\n",
       "      <td>PD-20-1264</td>\n",
       "      <td>Unrestricted (i.e., open to any type of entity...</td>\n",
       "      <td>National Science Foundation</td>\n",
       "      <td>The Algebra and Number Theory program supports...</td>\n",
       "    </tr>\n",
       "    <tr>\n",
       "      <th>4</th>\n",
       "      <td>Successor-in-Interest (Type 6 Parent Clinical ...</td>\n",
       "      <td>PA-20-275</td>\n",
       "      <td>Public housing authorities/Indian housing auth...</td>\n",
       "      <td>National Institutes of Health</td>\n",
       "      <td>The National Institutes of Health (NIH) hereby...</td>\n",
       "    </tr>\n",
       "    <tr>\n",
       "      <th>...</th>\n",
       "      <td>...</td>\n",
       "      <td>...</td>\n",
       "      <td>...</td>\n",
       "      <td>...</td>\n",
       "      <td>...</td>\n",
       "    </tr>\n",
       "    <tr>\n",
       "      <th>539</th>\n",
       "      <td>Ocean Technology and Interdisciplinary Coordin...</td>\n",
       "      <td>PD-98-1680</td>\n",
       "      <td>Unrestricted (i.e., open to any type of entity...</td>\n",
       "      <td>National Science Foundation</td>\n",
       "      <td>The Oceanographic Technology and Interdiscipli...</td>\n",
       "    </tr>\n",
       "    <tr>\n",
       "      <th>540</th>\n",
       "      <td>Biological Oceanography</td>\n",
       "      <td>PD-98-1650</td>\n",
       "      <td>Unrestricted (i.e., open to any type of entity...</td>\n",
       "      <td>National Science Foundation</td>\n",
       "      <td>The Biological Oceanography Program supports f...</td>\n",
       "    </tr>\n",
       "    <tr>\n",
       "      <th>541</th>\n",
       "      <td>Biological Anthropology</td>\n",
       "      <td>PD-98-1392</td>\n",
       "      <td>Unrestricted (i.e., open to any type of entity...</td>\n",
       "      <td>National Science Foundation</td>\n",
       "      <td>The Biological Anthropology Program supports b...</td>\n",
       "    </tr>\n",
       "    <tr>\n",
       "      <th>542</th>\n",
       "      <td>Archaeology and Archaeometry</td>\n",
       "      <td>PD-98-1391</td>\n",
       "      <td>Unrestricted (i.e., open to any type of entity...</td>\n",
       "      <td>National Science Foundation</td>\n",
       "      <td>The goal of the Archaeology Program is to fund...</td>\n",
       "    </tr>\n",
       "    <tr>\n",
       "      <th>543</th>\n",
       "      <td>Developing Country Collaborations in Plant Gen...</td>\n",
       "      <td>04-563</td>\n",
       "      <td>Unrestricted (i.e., open to any type of entity...</td>\n",
       "      <td>National Science Foundation</td>\n",
       "      <td>This letter is to call your attention to a new...</td>\n",
       "    </tr>\n",
       "  </tbody>\n",
       "</table>\n",
       "<p>544 rows × 5 columns</p>\n",
       "</div>"
      ],
      "text/plain": [
       "                                                  Name Opportunity Number  \\\n",
       "0    Transitions to Excellence in Molecular and Cel...             21-508   \n",
       "1                        Plant Genome Research Program             21-507   \n",
       "2    Division of Integrative Organismal Systems Cor...             21-506   \n",
       "3                            Algebra and Number Theory         PD-20-1264   \n",
       "4    Successor-in-Interest (Type 6 Parent Clinical ...          PA-20-275   \n",
       "..                                                 ...                ...   \n",
       "539  Ocean Technology and Interdisciplinary Coordin...         PD-98-1680   \n",
       "540                            Biological Oceanography         PD-98-1650   \n",
       "541                            Biological Anthropology         PD-98-1392   \n",
       "542                       Archaeology and Archaeometry         PD-98-1391   \n",
       "543  Developing Country Collaborations in Plant Gen...             04-563   \n",
       "\n",
       "                                           Eligibility  \\\n",
       "0    Unrestricted (i.e., open to any type of entity...   \n",
       "1    Unrestricted (i.e., open to any type of entity...   \n",
       "2    Unrestricted (i.e., open to any type of entity...   \n",
       "3    Unrestricted (i.e., open to any type of entity...   \n",
       "4    Public housing authorities/Indian housing auth...   \n",
       "..                                                 ...   \n",
       "539  Unrestricted (i.e., open to any type of entity...   \n",
       "540  Unrestricted (i.e., open to any type of entity...   \n",
       "541  Unrestricted (i.e., open to any type of entity...   \n",
       "542  Unrestricted (i.e., open to any type of entity...   \n",
       "543  Unrestricted (i.e., open to any type of entity...   \n",
       "\n",
       "                       Agency Name  \\\n",
       "0      National Science Foundation   \n",
       "1      National Science Foundation   \n",
       "2      National Science Foundation   \n",
       "3      National Science Foundation   \n",
       "4    National Institutes of Health   \n",
       "..                             ...   \n",
       "539    National Science Foundation   \n",
       "540    National Science Foundation   \n",
       "541    National Science Foundation   \n",
       "542    National Science Foundation   \n",
       "543    National Science Foundation   \n",
       "\n",
       "                                           Description  \n",
       "0    The Division of Molecular and Cellular Bioscie...  \n",
       "1    \\n\\n\\n\\nThe Plant Genome Research Program (PGR...  \n",
       "2    \\n\\nThe Division of Integrative Organismal Sys...  \n",
       "3    The Algebra and Number Theory program supports...  \n",
       "4    The National Institutes of Health (NIH) hereby...  \n",
       "..                                                 ...  \n",
       "539  The Oceanographic Technology and Interdiscipli...  \n",
       "540  The Biological Oceanography Program supports f...  \n",
       "541  The Biological Anthropology Program supports b...  \n",
       "542  The goal of the Archaeology Program is to fund...  \n",
       "543  This letter is to call your attention to a new...  \n",
       "\n",
       "[544 rows x 5 columns]"
      ]
     },
     "execution_count": 29,
     "metadata": {},
     "output_type": "execute_result"
    }
   ],
   "source": [
    "#searchResultsDiv > table.grid > tbody > tr:nth-child(26) > td:nth-child(1) > a\n",
    "df"
   ]
  },
  {
   "cell_type": "markdown",
   "metadata": {},
   "source": [
    "# Foundation Directory Online"
   ]
  },
  {
   "cell_type": "code",
   "execution_count": null,
   "metadata": {},
   "outputs": [],
   "source": [
    "#reads a .txt in current directory\n",
    "#tutorial: https://www3.ntu.edu.sg/home/ehchua/programming/webprogramming/Python_FileText.html\n",
    "login = open('loginfo_mia.txt','r')\n",
    "email = login.readline().rstrip()\n",
    "uname = login.readline().rstrip()\n",
    "passw = login.readline().rstrip()\n",
    "login.close()\n",
    "\n",
    "#initialize packages\n",
    "from selenium import webdriver\n",
    "import chromedriver_binary\n",
    "from selenium.webdriver import chrome\n",
    "import time\n",
    "\n",
    "driver = webdriver.Chrome()\n",
    "#replace this with your institution's link to Candid database\n",
    "#link = 'https://fconline-foundationcenter-org.ezproxy.lib.vt.edu/search/'\n",
    "\n",
    "\n",
    "################################### Begin 2FA and EZproxy bypass ####################################\n",
    "link = 'https://www.google.com/'\n",
    "#visit site\n",
    "driver.get(link)\n",
    "time.sleep(5)\n",
    "authGoog = driver.find_elements_by_xpath('//*[@id=\"gb_70\"]')[0]\n",
    "authGoog.click()\n",
    "time.sleep(3)\n",
    "authGoog = driver.find_elements_by_xpath('//*[@id=\"identifierId\"]')[0]\n",
    "authGoog.send_keys(email)\n",
    "time.sleep(1)\n",
    "authGoog = driver.find_elements_by_xpath('//*[@id=\"identifierNext\"]/div/button/div[2]')[0]\n",
    "authGoog.click()\n",
    "time.sleep(5)\n",
    "username = driver.find_element_by_id('username')\n",
    "username.send_keys(uname)\n",
    "password = driver.find_element_by_id('password')\n",
    "password.send_keys(passw)\n",
    "loginButt=driver.find_element_by_name('_eventId_proceed')\n",
    "loginButt.click()\n",
    "# wait for 2-factor\n",
    "time.sleep(5)\n",
    "iframe = driver.find_elements_by_tag_name('iframe')[0]\n",
    "driver.switch_to.frame(iframe)\n",
    "auth = driver.find_elements_by_xpath('//*[@id=\"auth_methods\"]/fieldset/div[1]/button')\n",
    "auth[0].click()\n",
    "time.sleep(6)\n",
    "\n",
    "# Performs mouse move action onto the element\n",
    "# simulate human mouse movement\n",
    "webdriver.ActionChains(driver).move_by_offset(100,100).perform()\n",
    "webdriver.ActionChains(driver).move_by_offset(98,99).perform()\n",
    "webdriver.ActionChains(driver).move_by_offset(90,89).perform()\n",
    "time.sleep(1)\n",
    "\n",
    "\n",
    "# element = driver.find_elements_by_xpath('//*[@id=\"view_container\"]/div/div/div[2]/div/div[2]/div/div[1]/div/div/button')\n",
    "# action.move_to_element(element) \n",
    "# time.sleep(1)"
   ]
  },
  {
   "cell_type": "code",
   "execution_count": null,
   "metadata": {},
   "outputs": [],
   "source": [
    "# must interact with window. Anti bot measures present\n",
    "confirm = driver.find_element_by_css_selector('#view_container > div > div > div.pwWryf.bxPAYd > div > div.zQJV3 > div > div.qhFLie > div > div > button')\n",
    "confirm.click()"
   ]
  },
  {
   "cell_type": "markdown",
   "metadata": {},
   "source": [
    "## FDO Filtering and Scraping 10/5/2020-10/6/2020"
   ]
  },
  {
   "cell_type": "code",
   "execution_count": null,
   "metadata": {},
   "outputs": [],
   "source": [
    "#login thru vtlib\n",
    "lk = 'https://guides.lib.vt.edu/find/grants'\n",
    "driver.get(lk)\n",
    "time.sleep(5)\n",
    "FDO = driver.find_element_by_css_selector('#s-lg-content-303847 > a')\n",
    "FDO.click()\n",
    "time.sleep(3)"
   ]
  },
  {
   "cell_type": "code",
   "execution_count": null,
   "metadata": {},
   "outputs": [],
   "source": [
    "#Start filtering\n",
    "FDO = driver.find_element_by_css_selector('#js-toggle-search')\n",
    "FDO.click()\n",
    "time.sleep(1)"
   ]
  },
  {
   "cell_type": "code",
   "execution_count": null,
   "metadata": {},
   "outputs": [],
   "source": [
    "#first filter\n",
    "FDO = driver.find_element_by_css_selector('#subject_area-tokenfield')\n",
    "FDO.click()\n",
    "#education\n",
    "FDO = driver.find_element_by_css_selector('#input-subject_area-SB')\n",
    "FDO.click()"
   ]
  },
  {
   "cell_type": "code",
   "execution_count": null,
   "metadata": {},
   "outputs": [],
   "source": [
    "#Science>\n",
    "FDO = driver.find_element_by_css_selector('#accordionundefined > div > div:nth-child(29) > span')\n",
    "FDO.click()\n",
    "driver.implicitly_wait(1)\n"
   ]
  },
  {
   "cell_type": "code",
   "execution_count": null,
   "metadata": {},
   "outputs": [],
   "source": [
    "#technology>\n",
    "FDO = driver.find_element_by_css_selector('#accordion1114 > div > div:nth-child(9) > span')\n",
    "driver.implicitly_wait(1)\n",
    "FDO.click()"
   ]
  },
  {
   "cell_type": "code",
   "execution_count": null,
   "metadata": {},
   "outputs": [],
   "source": [
    "#>Computer Science\n",
    "FDO = driver.find_element_by_css_selector('#input-subject_area-SF0203')\n",
    "driver.implicitly_wait(1)\n",
    "FDO.click()\n",
    "#>Robotics\n",
    "FDO = driver.find_element_by_css_selector('#input-subject_area-SF0205')\n",
    "driver.implicitly_wait(1)\n",
    "FDO.click()\n",
    "#Environment>\n",
    "#Environmental education\n",
    "driver.implicitly_wait(1)"
   ]
  },
  {
   "cell_type": "code",
   "execution_count": null,
   "metadata": {},
   "outputs": [],
   "source": [
    "#collapse Subject Area\n",
    "FDO = driver.find_element_by_css_selector('#accordion1 > div > button > i')\n",
    "FDO.click()"
   ]
  },
  {
   "cell_type": "code",
   "execution_count": null,
   "metadata": {},
   "outputs": [],
   "source": [
    "# FDO = driver.find_element_by_css_selector('#main-search-form > div:nth-child(1) > div:nth-child(5) > div > div > span > input')\n",
    "# FDO.send_keys('dallas')\n",
    "# time.sleep(1)\n",
    "# loc = driver.find_element_by_css_selector('#listbox_organization_location > div > div > div:nth-child(3) > label')\n",
    "# loc.click()\n",
    "# time.sleep(1)"
   ]
  },
  {
   "cell_type": "code",
   "execution_count": null,
   "metadata": {},
   "outputs": [],
   "source": [
    "# #collapse Subject Area\n",
    "# FDO = driver.find_element_by_css_selector('#listbox_organization_location > div > button > i')\n",
    "# FDO.click()"
   ]
  },
  {
   "cell_type": "code",
   "execution_count": null,
   "metadata": {},
   "outputs": [],
   "source": [
    "#Search button\n",
    "FDO = driver.find_element_by_css_selector('#prepare-elastic-input')\n",
    "FDO.click()\n",
    "time.sleep(1)\n",
    "FDO = driver.find_element_by_css_selector('#grants-view-all > a')\n",
    "FDO.click()"
   ]
  },
  {
   "cell_type": "markdown",
   "metadata": {},
   "source": [
    "## Test Chrome Session"
   ]
  },
  {
   "cell_type": "code",
   "execution_count": null,
   "metadata": {},
   "outputs": [],
   "source": [
    "import os\n",
    "print(os.getcwd())"
   ]
  },
  {
   "cell_type": "code",
   "execution_count": null,
   "metadata": {},
   "outputs": [],
   "source": [
    "confirm = driver.find_element_by_css_selector('#view_container > div > div > div.pwWryf.bxPAYd > div > div.zQJV3 > div > div.qhFLie > div > div > button')\n",
    "confirm.click()\n",
    "\n",
    "#main-search-form > div:nth-child(1) > div:nth-child(5) > div > div > span > input"
   ]
  },
  {
   "cell_type": "code",
   "execution_count": null,
   "metadata": {},
   "outputs": [],
   "source": []
  },
  {
   "cell_type": "code",
   "execution_count": null,
   "metadata": {},
   "outputs": [],
   "source": []
  },
  {
   "cell_type": "code",
   "execution_count": null,
   "metadata": {},
   "outputs": [],
   "source": []
  },
  {
   "cell_type": "markdown",
   "metadata": {},
   "source": [
    "## Additional Test Section"
   ]
  },
  {
   "cell_type": "code",
   "execution_count": null,
   "metadata": {},
   "outputs": [],
   "source": [
    "auth = driver.find_elements_by_xpath('//*[@id=\"auth_methods\"]/fieldset/div[1]/button')"
   ]
  },
  {
   "cell_type": "code",
   "execution_count": null,
   "metadata": {},
   "outputs": [],
   "source": []
  },
  {
   "cell_type": "code",
   "execution_count": null,
   "metadata": {},
   "outputs": [],
   "source": [
    "name = []\n",
    "opnum = []\n",
    "#Funding Opportunity Number\n",
    "fo = []\n",
    "#eligibility\n",
    "el = []\n",
    "#agency name\n",
    "agn = []\n",
    "#description\n",
    "des = []\n",
    "\n",
    "deet = []\n",
    "\n",
    "s = bs.BeautifulSoup(driver.page_source,'lxml')\n",
    "grantInfo = s.find('div',attrs={\"id\":\"synopsisDetailsGeneralInfoTableLeft\"})\n",
    "\n",
    "rows = grantInfo.find_all('tr')\n",
    "\n",
    "#store general info\n",
    "# opportunity number\n",
    "try:\n",
    "    opnum.append(rows[1].find('td').text)\n",
    "except:\n",
    "    #last page\n",
    "    pass\n",
    "#Funding Opportunity Title\n",
    "name.append(rows[2].find('td').text)\n",
    "\n",
    "#Grant eligibility\n",
    "grantInfo = s.find('div',attrs={\"id\":\"synopsisDetailsEligibilityTable\"})\n",
    "rows = grantInfo.find_all('tr')\n",
    "el.append(rows[0].find('td').text)\n",
    "\n",
    "grantInfo = s.find('div',attrs={\"id\":\"synopsisDetailsAdditionalInfoTable\"})\n",
    "rows = grantInfo.find_all('tr')\n",
    "#agency name\n",
    "agn.append(rows[0].find('td').text)\n",
    "#description\n",
    "des.append(rows[1].find('td').text)\n",
    "time.sleep(2)"
   ]
  },
  {
   "cell_type": "code",
   "execution_count": null,
   "metadata": {},
   "outputs": [],
   "source": [
    "name"
   ]
  },
  {
   "cell_type": "code",
   "execution_count": null,
   "metadata": {},
   "outputs": [],
   "source": [
    "opnum"
   ]
  },
  {
   "cell_type": "code",
   "execution_count": null,
   "metadata": {},
   "outputs": [],
   "source": [
    "fo"
   ]
  },
  {
   "cell_type": "code",
   "execution_count": null,
   "metadata": {},
   "outputs": [],
   "source": [
    "el"
   ]
  },
  {
   "cell_type": "code",
   "execution_count": null,
   "metadata": {},
   "outputs": [],
   "source": [
    "agn"
   ]
  },
  {
   "cell_type": "code",
   "execution_count": null,
   "metadata": {},
   "outputs": [],
   "source": [
    "des"
   ]
  },
  {
   "cell_type": "code",
   "execution_count": null,
   "metadata": {},
   "outputs": [],
   "source": [
    "deet"
   ]
  },
  {
   "cell_type": "code",
   "execution_count": null,
   "metadata": {},
   "outputs": [],
   "source": [
    "driver.execute_script(\"window.history.go(-1)\")"
   ]
  },
  {
   "cell_type": "code",
   "execution_count": null,
   "metadata": {},
   "outputs": [],
   "source": [
    "driver.find_element_by_css_selector('#searchResultsDiv > table.grid > tbody > tr:nth-child(2) > td:nth-child(1) > a').click()\n",
    "s = bs.BeautifulSoup(driver.page_source,'lxml')"
   ]
  },
  {
   "cell_type": "code",
   "execution_count": null,
   "metadata": {},
   "outputs": [],
   "source": [
    "i=str(19)\n",
    "driver.find_element_by_css_selector('#searchResultsDiv > table.grid > tbody > tr:nth-child('+i+') > td:nth-child(1) > a').click()"
   ]
  },
  {
   "cell_type": "code",
   "execution_count": null,
   "metadata": {},
   "outputs": [],
   "source": [
    "i=str(18)\n",
    "driver.find_element_by_css_selector('#searchResultsDiv > table.grid > tbody > tr:nth-child('+str(i)+') > td:nth-child(1) > a').click()\n",
    "#searchResultsDiv > table.grid > tbody > tr:nth-child(2) > td:nth-child(1) > a\n",
    "#searchResultsDiv > table.grid > tbody > tr:nth-child(3) > td:nth-child(1) > a\n",
    "driver.implicitly_wait(1)\n",
    "s = bs.BeautifulSoup(driver.page_source,'lxml')\n",
    "time.sleep(1)\n",
    "\n",
    "grantInfo = s.find('div',attrs={\"id\":\"synopsisDetailsGeneralInfoTableLeft\"})\n",
    "time.sleep(2)\n",
    "rows = grantInfo.find_all('tr')\n",
    "driver.implicitly_wait(1)\n",
    "#store general info\n",
    "# opportunity number\n",
    "#             try:\n",
    "opnum.append(rows[1].find('td').text)"
   ]
  },
  {
   "cell_type": "code",
   "execution_count": null,
   "metadata": {},
   "outputs": [],
   "source": [
    "grantInfo"
   ]
  },
  {
   "cell_type": "code",
   "execution_count": null,
   "metadata": {},
   "outputs": [],
   "source": [
    "rows = grantInfo.find_all('tr')"
   ]
  },
  {
   "cell_type": "code",
   "execution_count": null,
   "metadata": {},
   "outputs": [],
   "source": [
    "rows"
   ]
  },
  {
   "cell_type": "code",
   "execution_count": null,
   "metadata": {
    "scrolled": true
   },
   "outputs": [],
   "source": [
    "from selenium import webdriver\n",
    "import chromedriver_binary\n",
    "from selenium.webdriver import chrome\n",
    "import time\n",
    "\n",
    "driver = webdriver.Chrome()\n",
    "driver.switch_to.default_content()\n",
    "iframe = driver.find_elements_by_tag_name('iframe')[0]\n",
    "driver.switch_to.frame(iframe)\n",
    "\n",
    "i=str(2)\n",
    "driver.find_element_by_css_selector('#searchResultsDiv > table.grid > tbody > tr:nth-child('+str(i)+') > td:nth-child(1) > a').click()\n",
    "s = bs.BeautifulSoup(driver.page_source,'lxml')\n",
    "time.sleep(1)\n",
    "\n",
    "grantInfo = s.find('div',attrs={\"id\":\"synopsisDetailsGeneralInfoTableLeft\"})\n",
    "# time.sleep(2)\n",
    "rows = grantInfo.find_all('tr')\n",
    "# driver.implicitly_wait(1)"
   ]
  },
  {
   "cell_type": "code",
   "execution_count": null,
   "metadata": {},
   "outputs": [],
   "source": [
    "driver.switch_to.default_content()\n",
    "iframe = driver.find_elements_by_tag_name('iframe')[0]\n",
    "driver.switch_to.frame(iframe)"
   ]
  },
  {
   "cell_type": "code",
   "execution_count": 18,
   "metadata": {},
   "outputs": [],
   "source": [
    "#driver.find_element_by_css_selector('#searchResultsDiv > table.grid > tbody > tr:nth-child(2) > td:nth-child(1) > a').click()\n",
    "s = bs.BeautifulSoup(driver.page_source,'lxml')\n",
    "grantInfo = s.find('div',attrs={\"id\":\"synopsisDetailsGeneralInfoTableLeft\"})"
   ]
  },
  {
   "cell_type": "code",
   "execution_count": 16,
   "metadata": {},
   "outputs": [],
   "source": []
  },
  {
   "cell_type": "code",
   "execution_count": 19,
   "metadata": {},
   "outputs": [
    {
     "data": {
      "text/plain": [
       "<div id=\"synopsisDetailsGeneralInfoTableLeft\"><table border=\"0\" cellpadding=\"5\" cellspacing=\"0\"><tbody><tr><th class=\"label\" nowrap=\"nowrap\" scope=\"row\" valign=\"top\">Document Type:</th><td><span class=\"search-custom\">Grants Notice</span></td></tr><tr><th class=\"label\" nowrap=\"nowrap\" scope=\"row\" valign=\"top\">Funding Opportunity Number:</th><td><span class=\"search-custom\">21-508</span></td></tr><tr><th class=\"label\" nowrap=\"nowrap\" scope=\"row\" valign=\"top\">Funding Opportunity Title:</th><td><span class=\"search-custom\">Transitions to Excellence in Molecular and Cellular Biosciences Research</span></td></tr><tr><th class=\"label\" nowrap=\"nowrap\" scope=\"row\" valign=\"top\">Opportunity Category:</th><td><span class=\"search-custom\">Discretionary</span></td></tr><tr><th class=\"label\" nowrap=\"nowrap\" scope=\"row\" valign=\"top\">Opportunity Category Explanation:</th><td><span class=\"search-custom\"> </span></td></tr><tr><th class=\"label\" nowrap=\"nowrap\" scope=\"row\" valign=\"top\">Funding Instrument Type:</th><td><span class=\"search-custom\"><span class=\"search-custom\">Grant</span></span></td></tr><tr><th class=\"label\" nowrap=\"nowrap\" scope=\"row\" valign=\"top\">Category of Funding Activity:</th><td><span class=\"search-custom\"><span class=\"search-custom\">Science and Technology and other Research and Development</span></span></td></tr><tr><th class=\"label\" nowrap=\"nowrap\" scope=\"row\" valign=\"top\">Category Explanation:</th><td><span class=\"search-custom\"> </span></td></tr><tr><th class=\"label\" nowrap=\"nowrap\" scope=\"row\" valign=\"top\">Expected Number of Awards:</th><td><span class=\"search-custom\">8</span></td></tr><tr><th class=\"label\" nowrap=\"nowrap\" scope=\"row\" valign=\"top\">CFDA Number(s):</th><td><span class=\"search-custom\"><span class=\"search-custom\">47.074 -- Biological Sciences</span></span></td></tr><tr><th class=\"label\" nowrap=\"nowrap\" scope=\"row\" valign=\"top\">Cost Sharing or Matching Requirement:</th><td><span class=\"search-custom\">No</span></td></tr></tbody></table></div>"
      ]
     },
     "execution_count": 19,
     "metadata": {},
     "output_type": "execute_result"
    }
   ],
   "source": [
    "grantInfo"
   ]
  },
  {
   "cell_type": "code",
   "execution_count": null,
   "metadata": {},
   "outputs": [],
   "source": [
    "rows = grantInfo.find_all('tr')"
   ]
  },
  {
   "cell_type": "code",
   "execution_count": null,
   "metadata": {},
   "outputs": [],
   "source": [
    "rows"
   ]
  },
  {
   "cell_type": "code",
   "execution_count": null,
   "metadata": {},
   "outputs": [],
   "source": []
  }
 ],
 "metadata": {
  "kernelspec": {
   "display_name": "Python 3",
   "language": "python",
   "name": "python3"
  },
  "language_info": {
   "codemirror_mode": {
    "name": "ipython",
    "version": 3
   },
   "file_extension": ".py",
   "mimetype": "text/x-python",
   "name": "python",
   "nbconvert_exporter": "python",
   "pygments_lexer": "ipython3",
   "version": "3.8.3"
  }
 },
 "nbformat": 4,
 "nbformat_minor": 4
}
